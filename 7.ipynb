{
 "cells": [
  {
   "cell_type": "code",
   "execution_count": 1,
   "metadata": {},
   "outputs": [
    {
     "name": "stderr",
     "output_type": "stream",
     "text": [
      "2024-08-06 00:31:09.003464: I external/local_tsl/tsl/cuda/cudart_stub.cc:31] Could not find cuda drivers on your machine, GPU will not be used.\n",
      "2024-08-06 00:31:09.785651: E external/local_xla/xla/stream_executor/cuda/cuda_dnn.cc:9261] Unable to register cuDNN factory: Attempting to register factory for plugin cuDNN when one has already been registered\n",
      "2024-08-06 00:31:09.785850: E external/local_xla/xla/stream_executor/cuda/cuda_fft.cc:607] Unable to register cuFFT factory: Attempting to register factory for plugin cuFFT when one has already been registered\n",
      "2024-08-06 00:31:09.851981: E external/local_xla/xla/stream_executor/cuda/cuda_blas.cc:1515] Unable to register cuBLAS factory: Attempting to register factory for plugin cuBLAS when one has already been registered\n",
      "2024-08-06 00:31:10.163356: I external/local_tsl/tsl/cuda/cudart_stub.cc:31] Could not find cuda drivers on your machine, GPU will not be used.\n",
      "2024-08-06 00:31:10.177368: I tensorflow/core/platform/cpu_feature_guard.cc:182] This TensorFlow binary is optimized to use available CPU instructions in performance-critical operations.\n",
      "To enable the following instructions: AVX2 FMA, in other operations, rebuild TensorFlow with the appropriate compiler flags.\n",
      "2024-08-06 00:31:14.919641: W tensorflow/compiler/tf2tensorrt/utils/py_utils.cc:38] TF-TRT Warning: Could not find TensorRT\n"
     ]
    },
    {
     "name": "stdout",
     "output_type": "stream",
     "text": [
      "bias 0.009587366916666501\n",
      "\n",
      " variance 0.005145804824529483\n"
     ]
    }
   ],
   "source": [
    "import numpy as np\n",
    "import tensorflow as tf\n",
    "from sklearn.metrics import mean_squared_error\n",
    "from sklearn.utils import resample\n",
    "from tensorflow.keras.datasets import fashion_mnist\n",
    "\n",
    "(X_train,y_train),(X_test,y_test) = fashion_mnist.load_data()\n",
    "X_test,X_train = X_test/255.0, X_train/255.0\n",
    "\n",
    "X_train = X_train.reshape(X_train.shape[0],-1)\n",
    "X_test = X_test.reshape(X_test.shape[0],-1)\n",
    "\n",
    "binary_indices_train = np.where((y_train==0)|(y_train==1))[0]\n",
    "binary_indices_test = np.where((y_test==0)|(y_test==1))[0]\n",
    "\n",
    "X_train,y_train = X_train[binary_indices_train],y_train[binary_indices_train]\n",
    "X_test,y_test = X_test[binary_indices_test],y_test[binary_indices_test]\n",
    "\n",
    "def sigmoid(z):\n",
    "    return 1 / (1 + np.exp(-z))\n",
    "\n",
    "def transition(x_train,y_train,x_test,epochs = 10,lr = 0.1):\n",
    "    w = np.zeros(x_train.shape[1])\n",
    "    b=0\n",
    "    n= len(x_train)\n",
    "    for epoch in range(epochs):\n",
    "        for i in range(n):\n",
    "            z = np.dot(w,x_train[i])+b\n",
    "            y_pred = sigmoid(z)\n",
    "            \n",
    "            error = y_pred - y_train[i]\n",
    "            w -= lr*error*x_train[i]\n",
    "            b -= lr*error\n",
    "    return sigmoid(np.dot(x_test,w)+b)\n",
    "\n",
    "n_models = 10\n",
    "all_predictions = [transition(*resample(X_train,y_train),X_test)for model in range(n_models)]\n",
    "\n",
    "average_prediction = np.mean(all_predictions,axis=0)\n",
    "bias = mean_squared_error(y_test,average_prediction)\n",
    "variance = np.mean(np.var(all_predictions,axis=0))\n",
    "\n",
    "print('bias',bias)\n",
    "print('\\n variance',variance)\n"
   ]
  }
 ],
 "metadata": {
  "kernelspec": {
   "display_name": "Python 3",
   "language": "python",
   "name": "python3"
  },
  "language_info": {
   "codemirror_mode": {
    "name": "ipython",
    "version": 3
   },
   "file_extension": ".py",
   "mimetype": "text/x-python",
   "name": "python",
   "nbconvert_exporter": "python",
   "pygments_lexer": "ipython3",
   "version": "3.10.12"
  },
  "orig_nbformat": 4
 },
 "nbformat": 4,
 "nbformat_minor": 2
}
