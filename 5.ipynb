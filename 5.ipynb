{
 "cells": [
  {
   "cell_type": "code",
   "execution_count": 1,
   "metadata": {},
   "outputs": [
    {
     "name": "stderr",
     "output_type": "stream",
     "text": [
      "2024-08-06 00:29:33.001891: I external/local_tsl/tsl/cuda/cudart_stub.cc:31] Could not find cuda drivers on your machine, GPU will not be used.\n",
      "2024-08-06 00:29:35.154355: E external/local_xla/xla/stream_executor/cuda/cuda_dnn.cc:9261] Unable to register cuDNN factory: Attempting to register factory for plugin cuDNN when one has already been registered\n",
      "2024-08-06 00:29:35.154669: E external/local_xla/xla/stream_executor/cuda/cuda_fft.cc:607] Unable to register cuFFT factory: Attempting to register factory for plugin cuFFT when one has already been registered\n",
      "2024-08-06 00:29:35.456964: E external/local_xla/xla/stream_executor/cuda/cuda_blas.cc:1515] Unable to register cuBLAS factory: Attempting to register factory for plugin cuBLAS when one has already been registered\n",
      "2024-08-06 00:29:36.648433: I external/local_tsl/tsl/cuda/cudart_stub.cc:31] Could not find cuda drivers on your machine, GPU will not be used.\n",
      "2024-08-06 00:29:36.688037: I tensorflow/core/platform/cpu_feature_guard.cc:182] This TensorFlow binary is optimized to use available CPU instructions in performance-critical operations.\n",
      "To enable the following instructions: AVX2 FMA, in other operations, rebuild TensorFlow with the appropriate compiler flags.\n",
      "2024-08-06 00:29:45.246895: W tensorflow/compiler/tf2tensorrt/utils/py_utils.cc:38] TF-TRT Warning: Could not find TensorRT\n"
     ]
    },
    {
     "name": "stdout",
     "output_type": "stream",
     "text": [
      "Model: \"sequential\"\n",
      "_________________________________________________________________\n",
      " Layer (type)                Output Shape              Param #   \n",
      "=================================================================\n",
      " conv1d (Conv1D)             (None, 98, 32)            992       \n",
      "                                                                 \n",
      " max_pooling1d (MaxPooling1  (None, 49, 32)            0         \n",
      " D)                                                              \n",
      "                                                                 \n",
      " conv1d_1 (Conv1D)           (None, 47, 64)            6208      \n",
      "                                                                 \n",
      " max_pooling1d_1 (MaxPoolin  (None, 23, 64)            0         \n",
      " g1D)                                                            \n",
      "                                                                 \n",
      " conv1d_2 (Conv1D)           (None, 21, 128)           24704     \n",
      "                                                                 \n",
      " global_average_pooling1d (  (None, 128)               0         \n",
      " GlobalAveragePooling1D)                                         \n",
      "                                                                 \n",
      " dense (Dense)               (None, 64)                8256      \n",
      "                                                                 \n",
      " dense_1 (Dense)             (None, 3)                 195       \n",
      "                                                                 \n",
      "=================================================================\n",
      "Total params: 40355 (157.64 KB)\n",
      "Trainable params: 40355 (157.64 KB)\n",
      "Non-trainable params: 0 (0.00 Byte)\n",
      "_________________________________________________________________\n",
      "Epoch 1/5\n",
      "32/32 [==============================] - 6s 37ms/step - loss: 5.9244 - accuracy: 0.3240\n",
      "Epoch 2/5\n",
      "32/32 [==============================] - 1s 33ms/step - loss: 6.0163 - accuracy: 0.3260\n",
      "Epoch 3/5\n",
      "32/32 [==============================] - 1s 32ms/step - loss: 6.0151 - accuracy: 0.3410\n",
      "Epoch 4/5\n",
      "32/32 [==============================] - 1s 23ms/step - loss: 6.0148 - accuracy: 0.3420\n",
      "Epoch 5/5\n",
      "32/32 [==============================] - 1s 26ms/step - loss: 6.0176 - accuracy: 0.3190\n",
      "10/10 [==============================] - 1s 22ms/step - loss: 6.2516 - accuracy: 0.3300\n",
      "test accurcy: 0.33000001311302185\n"
     ]
    }
   ],
   "source": [
    "import tensorflow as tf\n",
    "from tensorflow.keras.models import Sequential\n",
    "from tensorflow.keras.layers import Conv1D,MaxPooling1D,GlobalAveragePooling1D,Dense\n",
    "import numpy as np\n",
    "\n",
    "def get_num(samples,timesteps,features,classes):\n",
    "    x = np.random.rand(samples,timesteps,features)\n",
    "    y = np.random.randint(0,classes,samples)\n",
    "    return x,y\n",
    "\n",
    "samples =1000\n",
    "timesteps =100\n",
    "features =10\n",
    "classes= 3\n",
    "\n",
    "X_train,y_train = get_num(samples,timesteps,features,classes)\n",
    "X_test,y_test = get_num(300,timesteps,features,classes)\n",
    "\n",
    "y_train = tf.keras.utils.to_categorical(y_train,classes)\n",
    "y_test = tf.keras.utils.to_categorical(y_test,classes)\n",
    "\n",
    "model = Sequential([\n",
    "    Conv1D(32,3,input_shape =(timesteps,features)),\n",
    "    MaxPooling1D(2),\n",
    "    Conv1D(64,3,activation='relu'),\n",
    "    MaxPooling1D(2),\n",
    "    Conv1D(128,3,activation='relu'),\n",
    "    GlobalAveragePooling1D(),\n",
    "    Dense(64,activation='relu'),\n",
    "    Dense(classes,activation='relu')\n",
    "\n",
    "])\n",
    "\n",
    "model.compile(optimizer = 'adam',\n",
    "              loss ='categorical_crossentropy',\n",
    "              metrics =['accuracy'])\n",
    "model.summary()\n",
    "model.fit(X_train,y_train,epochs=5)\n",
    "test_loss,test_acc =model.evaluate(X_test,y_test)\n",
    "print(f\"test accurcy: {test_acc}\")"
   ]
  }
 ],
 "metadata": {
  "kernelspec": {
   "display_name": "Python 3",
   "language": "python",
   "name": "python3"
  },
  "language_info": {
   "codemirror_mode": {
    "name": "ipython",
    "version": 3
   },
   "file_extension": ".py",
   "mimetype": "text/x-python",
   "name": "python",
   "nbconvert_exporter": "python",
   "pygments_lexer": "ipython3",
   "version": "3.10.12"
  },
  "orig_nbformat": 4
 },
 "nbformat": 4,
 "nbformat_minor": 2
}
