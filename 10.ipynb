{
 "cells": [
  {
   "cell_type": "code",
   "execution_count": 2,
   "metadata": {},
   "outputs": [
    {
     "name": "stdout",
     "output_type": "stream",
     "text": [
      "Optimal Policy:\n",
      "D D D D D \n",
      "D D D D D \n",
      "D D D D D \n",
      "D D D D D \n",
      "R R G L L \n"
     ]
    }
   ],
   "source": [
    "import numpy as np\n",
    "\n",
    "# Grid size and actions\n",
    "grid_size = 5\n",
    "actions = ['U', 'D', 'L', 'R']\n",
    "\n",
    "# Random goal state and rewards\n",
    "goal_state = (np.random.randint(grid_size), np.random.randint(grid_size))\n",
    "rewards = np.zeros((grid_size, grid_size))\n",
    "rewards[goal_state] = 1\n",
    "\n",
    "# Transition function\n",
    "def transition(action, x, y):\n",
    "    if action == 'U': return max(x - 1, 0), y\n",
    "    if action == 'D': return min(x + 1, grid_size - 1), y\n",
    "    if action == 'L': return x, max(y - 1, 0)\n",
    "    if action == 'R': return x, min(y + 1, grid_size - 1)\n",
    "\n",
    "# Value iteration\n",
    "def value_iteration(grid_size, rewards, actions, gamma=0.9, theta=1e-6):\n",
    "    values = np.zeros((grid_size, grid_size))\n",
    "    policy = np.zeros((grid_size, grid_size), dtype=int)\n",
    "    \n",
    "    while True:\n",
    "        delta = 0\n",
    "        for x in range(grid_size):\n",
    "            for y in range(grid_size):\n",
    "                v = values[x, y]\n",
    "                q_values = [rewards[x, y] + gamma * values[transition(action, x, y)] for action in actions]\n",
    "                values[x, y] = max(q_values)\n",
    "                policy[x, y] = np.argmax(q_values)\n",
    "                delta = max(delta, abs(v - values[x, y]))\n",
    "        \n",
    "        if delta < theta:\n",
    "            break\n",
    "    \n",
    "    return policy, values\n",
    "\n",
    "# Print policy\n",
    "def print_policy(policy):\n",
    "    for x in range(policy.shape[0]):\n",
    "        for y in range(policy.shape[1]):\n",
    "            if (x, y) == goal_state:\n",
    "                print('G',end=' ')\n",
    "            else:\n",
    "                print(actions[policy[x, y]],end=' ')\n",
    "        print()\n",
    "\n",
    "# Run value iteration and print the optimal policy\n",
    "policy, values = value_iteration(grid_size, rewards, actions)\n",
    "print(\"Optimal Policy:\")\n",
    "print_policy(policy)"
   ]
  }
 ],
 "metadata": {
  "kernelspec": {
   "display_name": "Python 3",
   "language": "python",
   "name": "python3"
  },
  "language_info": {
   "codemirror_mode": {
    "name": "ipython",
    "version": 3
   },
   "file_extension": ".py",
   "mimetype": "text/x-python",
   "name": "python",
   "nbconvert_exporter": "python",
   "pygments_lexer": "ipython3",
   "version": "3.10.12"
  },
  "orig_nbformat": 4
 },
 "nbformat": 4,
 "nbformat_minor": 2
}
